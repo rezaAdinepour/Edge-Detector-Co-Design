{
 "cells": [
  {
   "cell_type": "code",
   "execution_count": 1,
   "metadata": {},
   "outputs": [],
   "source": [
    "import numpy as np"
   ]
  },
  {
   "cell_type": "code",
   "execution_count": 2,
   "metadata": {},
   "outputs": [],
   "source": [
    "def convolve(x, kernel):\n",
    "    x_height = x.shape[0]\n",
    "    x_width = x.shape[1]\n",
    "    \n",
    "    kernel_height = kernel.shape[0]\n",
    "    kernel_width = kernel.shape[1]\n",
    "    \n",
    "    H = (kernel_height - 1) // 2\n",
    "    W = (kernel_width - 1) // 2\n",
    "    \n",
    "    out = np.zeros((x_height, x_width))\n",
    "    # iterate over all the pixel of image X\n",
    "    for i in np.arange(H, x_height - H):\n",
    "        for j in np.arange(W, x_width - W):\n",
    "            sum = 0\n",
    "            # iterate over the filter\n",
    "            for k in np.arange(-H, H + 1):\n",
    "                for l in np.arange(-W, W + 1):\n",
    "                    # get the corresponding value from image and filter\n",
    "                    a = x[i + k, j + l]\n",
    "                    w = kernel[H + k, W + l]\n",
    "                    sum += (w * a)\n",
    "            out[i, j] = sum\n",
    "    return out"
   ]
  },
  {
   "cell_type": "code",
   "execution_count": 3,
   "metadata": {},
   "outputs": [],
   "source": [
    "x_kernel = np.array([ [-1, 0, 1],\n",
    "                      [-1, 0, 1],\n",
    "                      [-1, 0, 1] ])\n",
    "\n",
    "\n",
    "\n",
    "y_kernel = np.array([ [-1, -1, -1],\n",
    "                      [0, 0, 0],\n",
    "                      [1, 1, 1] ])"
   ]
  },
  {
   "cell_type": "code",
   "execution_count": 36,
   "metadata": {},
   "outputs": [
    {
     "name": "stdout",
     "output_type": "stream",
     "text": [
      "Input Matrix (5x5):\n",
      "[[242  31  20 226 243]\n",
      " [ 91  36 143  71 152]\n",
      " [ 91  66 116 217  80]\n",
      " [ 97  78 150  20 225]\n",
      " [209 201  41 241  26]]\n"
     ]
    }
   ],
   "source": [
    "x = np.random.randint(0, 256, (5, 5), dtype=np.uint8)\n",
    "print(\"Input Matrix (5x5):\")\n",
    "print(x)"
   ]
  },
  {
   "cell_type": "code",
   "execution_count": 37,
   "metadata": {},
   "outputs": [],
   "source": [
    "np.savetxt(\"Data/test5x5.txt\", x, fmt=\"%d\")"
   ]
  },
  {
   "cell_type": "code",
   "execution_count": 39,
   "metadata": {},
   "outputs": [],
   "source": [
    "x_load = np.loadtxt(\"Data/test5x5.txt\", dtype=np.uint8)"
   ]
  },
  {
   "cell_type": "code",
   "execution_count": 42,
   "metadata": {},
   "outputs": [
    {
     "name": "stdout",
     "output_type": "stream",
     "text": [
      "x_out:\n",
      " [[   0.    0.    0.    0.    0.]\n",
      " [   0. -145.  381.  196.    0.]\n",
      " [   0.  130.  128.   48.    0.]\n",
      " [   0.  -90.  133.   24.    0.]\n",
      " [   0.    0.    0.    0.    0.]]\n",
      "\n",
      "y_out:\n",
      " [[   0.    0.    0.    0.    0.]\n",
      " [   0.  -20.  122.  -76.    0.]\n",
      " [   0.   55.   -2.   29.    0.]\n",
      " [   0.  178.   84. -105.    0.]\n",
      " [   0.    0.    0.    0.    0.]]\n",
      "\n",
      "edge out:\n",
      " [[  0.   0.   0.   0.   0.]\n",
      " [  0.  94. 255. 134.   0.]\n",
      " [  0.  90.  82.  36.   0.]\n",
      " [  0. 128. 101.  69.   0.]\n",
      " [  0.   0.   0.   0.   0.]]\n"
     ]
    }
   ],
   "source": [
    "pre_x = convolve(x_load, x_kernel)\n",
    "print(\"x_out:\\n {}\" .format(pre_x))\n",
    "pre_y = convolve(x_load, y_kernel)\n",
    "print(\"\\ny_out:\\n {}\" .format(pre_y))\n",
    "\n",
    "# calculate the gradient magnitude of vectors\n",
    "edge_out = np.sqrt(np.power(pre_x, 2) + np.power(pre_y, 2))\n",
    "edge_out = (edge_out / np.max(edge_out)) * 255\n",
    "print(\"\\nedge out:\\n {}\" .format(np.ceil(edge_out)))"
   ]
  },
  {
   "cell_type": "code",
   "execution_count": 35,
   "metadata": {},
   "outputs": [
    {
     "name": "stdout",
     "output_type": "stream",
     "text": [
      "\n",
      "Output Matrix after Convolution:\n",
      "[[   0.    0.    0.    0.    0.]\n",
      " [   0.  107.   88. -169.    0.]\n",
      " [   0.  239.  -10.  -34.    0.]\n",
      " [   0.   -4.  110.  204.    0.]\n",
      " [   0.    0.    0.    0.    0.]]\n"
     ]
    }
   ],
   "source": [
    "output = convolve(x, x_kernel)\n",
    "print(\"\\nOutput Matrix after Convolution:\")\n",
    "print(output)"
   ]
  },
  {
   "cell_type": "code",
   "execution_count": 50,
   "metadata": {},
   "outputs": [
    {
     "name": "stdout",
     "output_type": "stream",
     "text": [
      "C array saved to c_array_128x128.txt\n"
     ]
    }
   ],
   "source": [
    "import numpy as np\n",
    "\n",
    "# Define the size of the array\n",
    "ROWS = 128\n",
    "COLS = 128\n",
    "\n",
    "# Generate a ROWS x COLS array of random 8-bit integers (0-255)\n",
    "array = np.random.randint(0, 256, size=(ROWS, COLS))\n",
    "\n",
    "# Convert the array to C array format\n",
    "c_array_str = f\"int x[ROWS][COLS] = {{\\n\"\n",
    "for row in array:\n",
    "    c_array_str += \"    {\" + \", \".join(map(str, row)) + \"},\\n\"\n",
    "c_array_str = c_array_str.rstrip(\",\\n\") + \"\\n};\"\n",
    "\n",
    "# Save to a text file\n",
    "with open(\"c_array.txt\", \"w\") as file:\n",
    "    file.write(c_array_str)\n",
    "\n",
    "print(\"C array saved to c_array_128x128.txt\")\n"
   ]
  }
 ],
 "metadata": {
  "kernelspec": {
   "display_name": "Python 3",
   "language": "python",
   "name": "python3"
  },
  "language_info": {
   "codemirror_mode": {
    "name": "ipython",
    "version": 3
   },
   "file_extension": ".py",
   "mimetype": "text/x-python",
   "name": "python",
   "nbconvert_exporter": "python",
   "pygments_lexer": "ipython3",
   "version": "3.12.3"
  }
 },
 "nbformat": 4,
 "nbformat_minor": 2
}
